{
 "cells": [
  {
   "cell_type": "markdown",
   "metadata": {},
   "source": [
    "<img style=\"float: left;;\" src='Figures/iteso.jpg' width=\"100\" height=\"200\"/></a>\n",
    "\n",
    "# <center> <font color= #000047> Modelo del rendimiento de una cuenta de ahorro\n",
    " </font> </center>\n",
    "\n",
    "<img style=\"center\" src=\"https://static.pexels.com/photos/9660/business-money-pink-coins.jpg\" width=\"500px\" height=\"200px\" alt=\"atom\"/>\n",
    "\n",
    "> **¿Tiene el dinero el mismo valor a lo largo del tiempo?** La respuesta es *no*. Todos lo hemos vivido. \n",
    "\n",
    "> Dos situaciones básicas:\n",
    "1. <font color=blue>Inflación</font>: ¿Cuánto dinero necesitabas para comprar unas papas y un refresco hace 10 años? ¿Cuánto necesitas hoy?\n",
    "2. <font color=blue>Interés</font>: no es lo mismo tener $\\$10000$ MXN disponibles hoy a recibir $\\$10000$ MXN en un año, pues los primeros pueden ser invertidos en un negocio o una cuenta bancaria para generar *interés*. Por lo tanto los $\\$10000$ MXN disponibles hoy valen más que los $\\$10000$ MXN que se recibirán en un año.\n",
    "\n",
    "Referencia:\n",
    "- Vidaurri Aguirre, Héctor Manuel. *Ingeniería económica básica*, ISBN: 978-607-519-017-4. (Disponible en biblioteca)"
   ]
  },
  {
   "cell_type": "markdown",
   "metadata": {},
   "source": [
    "Referencias:\n",
    "- http://www.sympy.org\n",
    "- http://matplotlib.org\n",
    "- http://www.numpy.org\n",
    "- http://ipywidgets.readthedocs.io/en/latest/index.html"
   ]
  },
  {
   "cell_type": "markdown",
   "metadata": {},
   "source": [
    "___\n",
    "## Interés\n",
    "Nos centraremos en como cambia el valor del dinero en el tiempo debido al **interés**. Existen dos tipos:"
   ]
  },
  {
   "cell_type": "markdown",
   "metadata": {},
   "source": [
    "### Capitalización por interés simple\n",
    "Este tipo de interés se calcula <font color=red>única y exclusivamente sobre la cantidad original que se invirtió</font>. Como consecuencia, el interés generado no forma parte del dinero que se invierte, es decir, los <font color=blue>intereses no ganan intereses</font>.\n",
    "\n",
    "Suponga que se tiene un capital inicial $C_0$ y se invierte a un plazo de $k$ periodos (pueden ser meses, trimestres, semestres, años...) a una tasa de **interés simple** por periodo $i$. Al final del primer periodo, el capital $C_1$ que se obtiene es:\n",
    "\n",
    "$$C_1=C_0+iC_0=C_0(1+i).$$\n",
    "\n",
    "De la misma manera, como el interés solo se calcula sobre el capital inicial, al final del segundo periodo, el capital $C_2$ que se obtiene es:\n",
    "\n",
    "$$C_2=C_1+iC_0=C_0+iC_0+iC_0=C_0(1+2i).$$\n",
    "\n",
    "Así, al final del $k-$ésimo periodo, el capital $C_k$ que se obtiene es:\n",
    "\n",
    "$$C_k=C_{k-1}+iC_0=C_0+kiC_0=C_0(1+ki).$$"
   ]
  },
  {
   "cell_type": "markdown",
   "metadata": {},
   "source": [
    "> **Ejemplo.** Suponga que se tiene un capital de \\$10000 MXN, el cual se pone en un fondo de inversión que paga una tasa de interés simple del 0.8% mensual. \n",
    "\n",
    "> Si se tiene una meta de ahorro de \\$11000 MXN sin inversiones adicionales, ¿cuántos meses se debería dejar invertido el dinero?"
   ]
  },
  {
   "cell_type": "code",
   "execution_count": 1,
   "metadata": {},
   "outputs": [],
   "source": [
    "# Librería para cálculo numérico\n",
    "import numpy as np"
   ]
  },
  {
   "cell_type": "code",
   "execution_count": 2,
   "metadata": {},
   "outputs": [],
   "source": [
    "# Valores dados en el enunciado\n",
    "C0 = 10000\n",
    "Ck = 11000\n",
    "i = 0.008"
   ]
  },
  {
   "cell_type": "code",
   "execution_count": 4,
   "metadata": {},
   "outputs": [
    {
     "data": {
      "text/plain": [
       "13.0"
      ]
     },
     "execution_count": 4,
     "metadata": {},
     "output_type": "execute_result"
    }
   ],
   "source": [
    "# Despejamos k tal que C_k=meta\n",
    "k = np.ceil((Ck / C0 - 1) / i)  # Función techo (ceil): encuentra el entero superior más cercano\n",
    "k"
   ]
  },
  {
   "cell_type": "code",
   "execution_count": 8,
   "metadata": {},
   "outputs": [
    {
     "data": {
      "text/plain": [
       "numpy.float64"
      ]
     },
     "execution_count": 8,
     "metadata": {},
     "output_type": "execute_result"
    }
   ],
   "source": [
    "type(k)"
   ]
  },
  {
   "cell_type": "code",
   "execution_count": 10,
   "metadata": {},
   "outputs": [
    {
     "data": {
      "text/plain": [
       "numpy.int64"
      ]
     },
     "execution_count": 10,
     "metadata": {},
     "output_type": "execute_result"
    }
   ],
   "source": [
    "type(k.astype(int))"
   ]
  },
  {
   "cell_type": "code",
   "execution_count": 5,
   "metadata": {},
   "outputs": [
    {
     "name": "stdout",
     "output_type": "stream",
     "text": [
      "Para llegar a la meta de 11000 con un capital inicial de 10000 a una tasa de 0.008 mensual se necesitan 13.0 meses. El dinero al finalizar los 13.0 meses es: 11040.000000000002.\n"
     ]
    }
   ],
   "source": [
    "# Imprimimos respuesta en pantalla\n",
    "print(f\"Para llegar a la meta de {Ck} con un capital inicial de {C0} a una tasa de {i} mensual \"\n",
    "      f\"se necesitan {k} meses. El dinero al finalizar los {k} meses es: {C0 * (1 + k * i)}.\")"
   ]
  },
  {
   "cell_type": "markdown",
   "metadata": {},
   "source": [
    "> <font color=blue>**Actividad.**</font>\n",
    "> - ¿Qué pasa si el interés no es del 0.8% mensual sino del 1% mensual?\n",
    "> - ¿Qué pasa si la meta no son $\\$11000$ MXN si no $\\$12000$ MXN?"
   ]
  },
  {
   "cell_type": "code",
   "execution_count": null,
   "metadata": {},
   "outputs": [],
   "source": [
    "# Solución\n"
   ]
  },
  {
   "cell_type": "markdown",
   "metadata": {},
   "source": [
    "> Una gráfica que nos permite ilustrar la situación anterior se puede realizar de la siguiente manera."
   ]
  },
  {
   "cell_type": "code",
   "execution_count": 6,
   "metadata": {},
   "outputs": [],
   "source": [
    "# Librerías para gráficos\n",
    "import matplotlib.pyplot as plt\n",
    "# Para que se muestren las gráficas en la misma ventana\n",
    "%matplotlib inline\n",
    "# Librería para widgets de python interactivo\n",
    "from ipywidgets import *"
   ]
  },
  {
   "cell_type": "markdown",
   "metadata": {},
   "source": [
    "Explicar la siguiente función"
   ]
  },
  {
   "cell_type": "code",
   "execution_count": 11,
   "metadata": {
    "scrolled": false
   },
   "outputs": [],
   "source": [
    "# Función de gráficos de interés simple\n",
    "def interes_simple(C_0, meta, i):\n",
    "    # Despejamos k\n",
    "    k = np.ceil((meta / C_0 - 1) / i)  # Notar el uso de la función ceil\n",
    "    k = k.astype(int)  # Conversión a entero\n",
    "    C_k = C_0 * (1 + k * i)  # Cálculo del capital al final del periodo k\n",
    "    C_k = round(C_k, 2)  # Redondeo con dos cifras decimales\n",
    "    # Vector de periodos\n",
    "    kk = np.linspace(0, k, k + 1)               \n",
    "    # Vector de capitales por periodo\n",
    "    CC = C_0 * (1 + kk * i)\n",
    "    # Gráfico\n",
    "    plt.figure(num=1)  # Figura 1\n",
    "    plt.clf()  # Borrar lo que contenga la figura\n",
    "    plt.plot(kk, CC,'*',linewidth=3)  # Se grafica la evolución de los capitales\n",
    "    plt.plot(kk, meta * np.ones(k + 1), '--k')  # Se grafica la meta\n",
    "    plt.xlabel('k')  # Etiqueta eje x\n",
    "    plt.ylabel('C_k')  # Etiqueta eje y\n",
    "    plt.grid()  # Malla en la gráfica\n",
    "    plt.show()  # Mostrar la figura\n",
    "    print(\"El número de periodos que se debe dejar invertido el dinero para llegar a la meta de \", meta,\" es \", k,\n",
    "          \". Al final del periodo \", k,\", el capital es \", C_k, \".\", sep=\"\")"
   ]
  },
  {
   "cell_type": "code",
   "execution_count": 17,
   "metadata": {},
   "outputs": [
    {
     "data": {
      "application/vnd.jupyter.widget-view+json": {
       "model_id": "3ab9e5b8ebe24d9f9e5301139436d18e",
       "version_major": 2,
       "version_minor": 0
      },
      "text/plain": [
       "interactive(children=(IntSlider(value=15000, description='meta', max=20000, min=10000, step=100), Button(descr…"
      ]
     },
     "metadata": {},
     "output_type": "display_data"
    },
    {
     "data": {
      "text/plain": [
       "<function __main__.interes_simple(C_0, meta, i)>"
      ]
     },
     "execution_count": 17,
     "metadata": {},
     "output_type": "execute_result"
    }
   ],
   "source": [
    "interact_manual(interes_simple, \n",
    "                C_0=fixed(10000),\n",
    "                meta=(10000, 20000, 100),\n",
    "                i=fixed(0.008))"
   ]
  },
  {
   "cell_type": "markdown",
   "metadata": {},
   "source": [
    "Como se esperaba, el capital en el $k-$ésimo periodo $C_k=C_0(1+ki)$ crece linealmente con $k$."
   ]
  },
  {
   "cell_type": "markdown",
   "metadata": {},
   "source": [
    "### Capitalización por interés compuesto\n",
    "El capital que genera el interés simple permanece constante todo el tiempo de duración de la inversión. En cambio, el que produce el interés compuesto en un periodo se <font color=red>convierte en capital en el siguiente periodo</font>. Esto es, el interés generado al final de un periodo <font color=blue>se reinvierte para el siguiente periodo para también producir interés</font>.\n",
    "\n",
    "Suponga que se tiene un capital inicial $C_0$, y se va a ceder el uso de este capital por un periodo de tiempo determinado a una tasa de interés $i$. El capital que se obtiene al final del primer periodo $C_1$ se puede calcular por\n",
    "\n",
    "$$C_1=C_0(1+i).$$ \n",
    "\n",
    "Si la anterior suma se vuelve a ceder a la misma tasa de interés, al final del periodo dos el capital $C_2$ es \n",
    "\n",
    "$$C_2=C_1(1+i)=C_0(1+i)^2.$$\n",
    "\n",
    "Si se repite el anterior proceso $k$ veces, el capital al final del $k-$ésimo periodo $C_k$ es \n",
    "\n",
    "$$C_k=C_{k-1}(1+i)=C_0(1+i)^k.$$\n",
    "\n",
    "**Referencia**:\n",
    "- https://es.wikipedia.org/wiki/Inter%C3%A9s_compuesto."
   ]
  },
  {
   "cell_type": "markdown",
   "metadata": {},
   "source": [
    "> **Ejemplo.** Suponga que se tiene un capital de \\$10000 MXN, el cual se pone en un fondo de inversión que paga una tasa de interés del 0.8% mensual. \n",
    "\n",
    "> Si se tiene una meta de ahorro de \\$11000 MXN sin inversiones adicionales, ¿cuántos meses se debería dejar invertido el dinero?\n",
    "\n",
    "> Muestre una gráfica que ilustre la situación."
   ]
  },
  {
   "cell_type": "code",
   "execution_count": 14,
   "metadata": {},
   "outputs": [],
   "source": [
    "def interes_compuesto(C_0, meta, i):\n",
    "    # Despejamos k\n",
    "    k = np.ceil(np.log(meta / C_0) / np.log(1 + i))\n",
    "    k = k.astype(int)\n",
    "    C_k = C_0 * (1 + i)**k  # Cálculo del capital al final del periodo k\n",
    "    C_k = round(C_k, 2)  # Redondeo con dos cifras decimales\n",
    "    # Vector de periodos\n",
    "    kk = np.linspace(0, k, k + 1)\n",
    "    # Vector de capitales por periodo\n",
    "    CC = C_0 * (1 + i)**kk\n",
    "    # Gráfico\n",
    "    plt.figure(num=1)  # Figura 1\n",
    "    plt.clf()  # Borrar lo que contenga la figura\n",
    "    plt.plot(kk, CC, '*', linewidth=3)  # Se grafica la evolución de los capitales\n",
    "    plt.plot(kk, meta * np.ones(k + 1), '--k')  # Se grafica la meta\n",
    "    plt.xlabel('k')  # Etiqueta eje x\n",
    "    plt.ylabel('C_k')  # Etiqueta eje y\n",
    "    plt.grid()  # Malla en la gráfica\n",
    "    plt.show()  # Mostrar la figura\n",
    "    print(\"El número de periodos que se debe dejar invertido el dinero para llegar a la meta de \", meta,\" es \", k,\n",
    "          \". Al final del periodo \", k,\", el capital es \", C_k, \".\", sep=\"\")"
   ]
  },
  {
   "cell_type": "code",
   "execution_count": 20,
   "metadata": {},
   "outputs": [
    {
     "data": {
      "application/vnd.jupyter.widget-view+json": {
       "model_id": "17c626e9af0a4e77871efc7e03bbac8a",
       "version_major": 2,
       "version_minor": 0
      },
      "text/plain": [
       "interactive(children=(IntSlider(value=15000, description='meta', max=20000, min=10000, step=100), Button(descr…"
      ]
     },
     "metadata": {},
     "output_type": "display_data"
    },
    {
     "data": {
      "text/plain": [
       "<function __main__.interes_compuesto(C_0, meta, i)>"
      ]
     },
     "execution_count": 20,
     "metadata": {},
     "output_type": "execute_result"
    }
   ],
   "source": [
    "interact_manual(interes_compuesto, \n",
    "                C_0=fixed(10000), \n",
    "                meta=(10000, 20000, 100), \n",
    "                i=fixed(0.008))"
   ]
  },
  {
   "cell_type": "markdown",
   "metadata": {},
   "source": [
    "El capital en el $k-$ésimo periodo $C_k=C_0(1+i)^k$ crece de manera exponencial con $k$."
   ]
  },
  {
   "cell_type": "markdown",
   "metadata": {},
   "source": [
    "> <font color=blue>**Actividad.**</font>\n",
    "> - Modificar el código anterior para dejar fija la meta de ahorro y variar la tasa de interés compuesta."
   ]
  },
  {
   "cell_type": "code",
   "execution_count": null,
   "metadata": {},
   "outputs": [],
   "source": []
  },
  {
   "cell_type": "markdown",
   "metadata": {},
   "source": [
    "### Capitalización continua de intereses\n",
    "La capitalización continua se considera un tipo de capitalización compuesta, en la que a cada instante de tiempo $t$ se se capitalizan los intereses. Es decir, la frecuencia de capitalización es infinita (o, equivalentemente, el periodo de capitalización tiende a cero).\n",
    "\n",
    "Suponga que se tiene un capital inicial $C_0$, y que el capital acumulado en el tiempo $t$ es $C(t)$. Queremos saber cuanto será el capital pasado un periodo de tiempo $\\Delta t$, dado que la tasa de interés efectiva para este periodo de tiempo es $i$. De acuerdo a lo anterior tenemos\n",
    "\n",
    "$$C(t+\\Delta t)=C(t)(1+i)=C(t)(1+r\\Delta t),$$\n",
    "\n",
    "donde $r=\\frac{i}{\\Delta t}$ es la tasa de interés instantánea. Manipulando la anterior expresión, obtenemos\n",
    "\n",
    "$$\\frac{C(t+\\Delta t)-C(t)}{\\Delta t}=r\\; C(t).$$\n",
    "\n",
    "Haciendo $\\Delta t\\to 0$, obtenemos la siguiente ecuación diferencial \n",
    "\n",
    "$$\\frac{d C(t)}{dt}=r\\; C(t),$$\n",
    "\n",
    "sujeta a la condición inicial (monto o capital inicial) $C(0)=C_0$.\n",
    "\n",
    "La anterior, es una ecuación diferencial lineal de primer orden, para la cual se puede calcular la *solución analítica*."
   ]
  },
  {
   "cell_type": "code",
   "execution_count": 1,
   "metadata": {},
   "outputs": [],
   "source": [
    "# Librería de cálculo simbólico\n",
    "import sympy as sym\n",
    "# Para imprimir en formato TeX\n",
    "sym.init_printing(use_latex='mathjax')"
   ]
  },
  {
   "cell_type": "code",
   "execution_count": 2,
   "metadata": {},
   "outputs": [],
   "source": [
    "# Símbolos t(para el tiempo) y r(para el interés instantáneo)\n",
    "sym.var(\"t r\")\n",
    "# Función de capital\n",
    "C = sym.Function('C')"
   ]
  },
  {
   "cell_type": "code",
   "execution_count": 28,
   "metadata": {},
   "outputs": [
    {
     "data": {
      "text/latex": [
       "$\\displaystyle - r C{\\left(t \\right)} + \\frac{d}{d t} C{\\left(t \\right)} = 0$"
      ],
      "text/plain": [
       "          d           \n",
       "-r⋅C(t) + ──(C(t)) = 0\n",
       "          dt          "
      ]
     },
     "metadata": {},
     "output_type": "display_data"
    },
    {
     "data": {
      "text/latex": [
       "$\\displaystyle C{\\left(t \\right)} = C_{1} e^{r t}$"
      ],
      "text/plain": [
       "           r⋅t\n",
       "C(t) = C₁⋅ℯ   "
      ]
     },
     "execution_count": 28,
     "metadata": {},
     "output_type": "execute_result"
    }
   ],
   "source": [
    "# Ecuación diferencial\n",
    "eq = sym.Eq(sym.Derivative(C(t), t) - r * C(t), 0)\n",
    "# Mostrar ecuación\n",
    "display(eq)\n",
    "# Resolver\n",
    "sym.dsolve(eq, C(t))"
   ]
  },
  {
   "cell_type": "markdown",
   "metadata": {},
   "source": [
    "con $C_1=C_0$.\n",
    "\n",
    "La equivalencia entre la tasa de interés compuesta $i$ y la tasa de interés instantánea $r$ viene dada por\n",
    "\n",
    "$$e^r=1+i.$$"
   ]
  },
  {
   "cell_type": "markdown",
   "metadata": {},
   "source": [
    "___\n",
    "¿Cómo podemos calcular la *solución numérica*?"
   ]
  },
  {
   "cell_type": "markdown",
   "metadata": {},
   "source": [
    "> **Ejemplo.** Suponga que se tiene un capital de \\$10000 MXN, el cual se pone en un fondo de inversión que paga una tasa de interés del 0.8% mensual. \n",
    "\n",
    "> Si se tiene una meta de ahorro de \\$11000 MXN sin inversiones adicionales, ¿cuánto tiempo se debe dejar invertido el dinero?\n",
    "\n",
    "> Muestre una gráfica que ilustre la situación."
   ]
  },
  {
   "cell_type": "code",
   "execution_count": 29,
   "metadata": {},
   "outputs": [],
   "source": [
    "# Librerías para integración numérica\n",
    "from scipy.integrate import odeint"
   ]
  },
  {
   "cell_type": "code",
   "execution_count": 30,
   "metadata": {},
   "outputs": [
    {
     "name": "stdout",
     "output_type": "stream",
     "text": [
      "Help on function odeint in module scipy.integrate.odepack:\n",
      "\n",
      "odeint(func, y0, t, args=(), Dfun=None, col_deriv=0, full_output=0, ml=None, mu=None, rtol=None, atol=None, tcrit=None, h0=0.0, hmax=0.0, hmin=0.0, ixpr=0, mxstep=0, mxhnil=0, mxordn=12, mxords=5, printmessg=0, tfirst=False)\n",
      "    Integrate a system of ordinary differential equations.\n",
      "    \n",
      "    .. note:: For new code, use `scipy.integrate.solve_ivp` to solve a\n",
      "              differential equation.\n",
      "    \n",
      "    Solve a system of ordinary differential equations using lsoda from the\n",
      "    FORTRAN library odepack.\n",
      "    \n",
      "    Solves the initial value problem for stiff or non-stiff systems\n",
      "    of first order ode-s::\n",
      "    \n",
      "        dy/dt = func(y, t, ...)  [or func(t, y, ...)]\n",
      "    \n",
      "    where y can be a vector.\n",
      "    \n",
      "    .. note:: By default, the required order of the first two arguments of\n",
      "              `func` are in the opposite order of the arguments in the system\n",
      "              definition function used by the `scipy.integrate.ode` class and\n",
      "              the function `scipy.integrate.solve_ivp`.  To use a function with\n",
      "              the signature ``func(t, y, ...)``, the argument `tfirst` must be\n",
      "              set to ``True``.\n",
      "    \n",
      "    Parameters\n",
      "    ----------\n",
      "    func : callable(y, t, ...) or callable(t, y, ...)\n",
      "        Computes the derivative of y at t.\n",
      "        If the signature is ``callable(t, y, ...)``, then the argument\n",
      "        `tfirst` must be set ``True``.\n",
      "    y0 : array\n",
      "        Initial condition on y (can be a vector).\n",
      "    t : array\n",
      "        A sequence of time points for which to solve for y.  The initial\n",
      "        value point should be the first element of this sequence.\n",
      "        This sequence must be monotonically increasing or monotonically\n",
      "        decreasing; repeated values are allowed.\n",
      "    args : tuple, optional\n",
      "        Extra arguments to pass to function.\n",
      "    Dfun : callable(y, t, ...) or callable(t, y, ...)\n",
      "        Gradient (Jacobian) of `func`.\n",
      "        If the signature is ``callable(t, y, ...)``, then the argument\n",
      "        `tfirst` must be set ``True``.\n",
      "    col_deriv : bool, optional\n",
      "        True if `Dfun` defines derivatives down columns (faster),\n",
      "        otherwise `Dfun` should define derivatives across rows.\n",
      "    full_output : bool, optional\n",
      "        True if to return a dictionary of optional outputs as the second output\n",
      "    printmessg : bool, optional\n",
      "        Whether to print the convergence message\n",
      "    tfirst: bool, optional\n",
      "        If True, the first two arguments of `func` (and `Dfun`, if given)\n",
      "        must ``t, y`` instead of the default ``y, t``.\n",
      "    \n",
      "        .. versionadded:: 1.1.0\n",
      "    \n",
      "    Returns\n",
      "    -------\n",
      "    y : array, shape (len(t), len(y0))\n",
      "        Array containing the value of y for each desired time in t,\n",
      "        with the initial value `y0` in the first row.\n",
      "    infodict : dict, only returned if full_output == True\n",
      "        Dictionary containing additional output information\n",
      "    \n",
      "        =======  ============================================================\n",
      "        key      meaning\n",
      "        =======  ============================================================\n",
      "        'hu'     vector of step sizes successfully used for each time step.\n",
      "        'tcur'   vector with the value of t reached for each time step.\n",
      "                 (will always be at least as large as the input times).\n",
      "        'tolsf'  vector of tolerance scale factors, greater than 1.0,\n",
      "                 computed when a request for too much accuracy was detected.\n",
      "        'tsw'    value of t at the time of the last method switch\n",
      "                 (given for each time step)\n",
      "        'nst'    cumulative number of time steps\n",
      "        'nfe'    cumulative number of function evaluations for each time step\n",
      "        'nje'    cumulative number of jacobian evaluations for each time step\n",
      "        'nqu'    a vector of method orders for each successful step.\n",
      "        'imxer'  index of the component of largest magnitude in the\n",
      "                 weighted local error vector (e / ewt) on an error return, -1\n",
      "                 otherwise.\n",
      "        'lenrw'  the length of the double work array required.\n",
      "        'leniw'  the length of integer work array required.\n",
      "        'mused'  a vector of method indicators for each successful time step:\n",
      "                 1: adams (nonstiff), 2: bdf (stiff)\n",
      "        =======  ============================================================\n",
      "    \n",
      "    Other Parameters\n",
      "    ----------------\n",
      "    ml, mu : int, optional\n",
      "        If either of these are not None or non-negative, then the\n",
      "        Jacobian is assumed to be banded.  These give the number of\n",
      "        lower and upper non-zero diagonals in this banded matrix.\n",
      "        For the banded case, `Dfun` should return a matrix whose\n",
      "        rows contain the non-zero bands (starting with the lowest diagonal).\n",
      "        Thus, the return matrix `jac` from `Dfun` should have shape\n",
      "        ``(ml + mu + 1, len(y0))`` when ``ml >=0`` or ``mu >=0``.\n",
      "        The data in `jac` must be stored such that ``jac[i - j + mu, j]``\n",
      "        holds the derivative of the `i`th equation with respect to the `j`th\n",
      "        state variable.  If `col_deriv` is True, the transpose of this\n",
      "        `jac` must be returned.\n",
      "    rtol, atol : float, optional\n",
      "        The input parameters `rtol` and `atol` determine the error\n",
      "        control performed by the solver.  The solver will control the\n",
      "        vector, e, of estimated local errors in y, according to an\n",
      "        inequality of the form ``max-norm of (e / ewt) <= 1``,\n",
      "        where ewt is a vector of positive error weights computed as\n",
      "        ``ewt = rtol * abs(y) + atol``.\n",
      "        rtol and atol can be either vectors the same length as y or scalars.\n",
      "        Defaults to 1.49012e-8.\n",
      "    tcrit : ndarray, optional\n",
      "        Vector of critical points (e.g. singularities) where integration\n",
      "        care should be taken.\n",
      "    h0 : float, (0: solver-determined), optional\n",
      "        The step size to be attempted on the first step.\n",
      "    hmax : float, (0: solver-determined), optional\n",
      "        The maximum absolute step size allowed.\n",
      "    hmin : float, (0: solver-determined), optional\n",
      "        The minimum absolute step size allowed.\n",
      "    ixpr : bool, optional\n",
      "        Whether to generate extra printing at method switches.\n",
      "    mxstep : int, (0: solver-determined), optional\n",
      "        Maximum number of (internally defined) steps allowed for each\n",
      "        integration point in t.\n",
      "    mxhnil : int, (0: solver-determined), optional\n",
      "        Maximum number of messages printed.\n",
      "    mxordn : int, (0: solver-determined), optional\n",
      "        Maximum order to be allowed for the non-stiff (Adams) method.\n",
      "    mxords : int, (0: solver-determined), optional\n",
      "        Maximum order to be allowed for the stiff (BDF) method.\n",
      "    \n",
      "    See Also\n",
      "    --------\n",
      "    solve_ivp : Solve an initial value problem for a system of ODEs.\n",
      "    ode : a more object-oriented integrator based on VODE.\n",
      "    quad : for finding the area under a curve.\n",
      "    \n",
      "    Examples\n",
      "    --------\n",
      "    The second order differential equation for the angle `theta` of a\n",
      "    pendulum acted on by gravity with friction can be written::\n",
      "    \n",
      "        theta''(t) + b*theta'(t) + c*sin(theta(t)) = 0\n",
      "    \n",
      "    where `b` and `c` are positive constants, and a prime (') denotes a\n",
      "    derivative.  To solve this equation with `odeint`, we must first convert\n",
      "    it to a system of first order equations.  By defining the angular\n",
      "    velocity ``omega(t) = theta'(t)``, we obtain the system::\n",
      "    \n",
      "        theta'(t) = omega(t)\n",
      "        omega'(t) = -b*omega(t) - c*sin(theta(t))\n",
      "    \n",
      "    Let `y` be the vector [`theta`, `omega`].  We implement this system\n",
      "    in python as:\n",
      "    \n",
      "    >>> def pend(y, t, b, c):\n",
      "    ...     theta, omega = y\n",
      "    ...     dydt = [omega, -b*omega - c*np.sin(theta)]\n",
      "    ...     return dydt\n",
      "    ...\n",
      "    \n",
      "    We assume the constants are `b` = 0.25 and `c` = 5.0:\n",
      "    \n",
      "    >>> b = 0.25\n",
      "    >>> c = 5.0\n",
      "    \n",
      "    For initial conditions, we assume the pendulum is nearly vertical\n",
      "    with `theta(0)` = `pi` - 0.1, and is initially at rest, so\n",
      "    `omega(0)` = 0.  Then the vector of initial conditions is\n",
      "    \n",
      "    >>> y0 = [np.pi - 0.1, 0.0]\n",
      "    \n",
      "    We will generate a solution at 101 evenly spaced samples in the interval\n",
      "    0 <= `t` <= 10.  So our array of times is:\n",
      "    \n",
      "    >>> t = np.linspace(0, 10, 101)\n",
      "    \n",
      "    Call `odeint` to generate the solution.  To pass the parameters\n",
      "    `b` and `c` to `pend`, we give them to `odeint` using the `args`\n",
      "    argument.\n",
      "    \n",
      "    >>> from scipy.integrate import odeint\n",
      "    >>> sol = odeint(pend, y0, t, args=(b, c))\n",
      "    \n",
      "    The solution is an array with shape (101, 2).  The first column\n",
      "    is `theta(t)`, and the second is `omega(t)`.  The following code\n",
      "    plots both components.\n",
      "    \n",
      "    >>> import matplotlib.pyplot as plt\n",
      "    >>> plt.plot(t, sol[:, 0], 'b', label='theta(t)')\n",
      "    >>> plt.plot(t, sol[:, 1], 'g', label='omega(t)')\n",
      "    >>> plt.legend(loc='best')\n",
      "    >>> plt.xlabel('t')\n",
      "    >>> plt.grid()\n",
      "    >>> plt.show()\n",
      "\n"
     ]
    }
   ],
   "source": [
    "help(odeint)"
   ]
  },
  {
   "cell_type": "code",
   "execution_count": 34,
   "metadata": {},
   "outputs": [],
   "source": [
    "# Modelo de capitalización continua\n",
    "def cap_continua(C, t, r):\n",
    "    return r * C"
   ]
  },
  {
   "cell_type": "code",
   "execution_count": 35,
   "metadata": {},
   "outputs": [],
   "source": [
    "def interes_continuo(C_0, meta, r):\n",
    "    # Despejamos t\n",
    "    t = np.log(meta / C_0) / r\n",
    "    # Vector de periodos\n",
    "    tt = np.linspace(0, t, 100)\n",
    "    # Vector de capitales por periodo\n",
    "    CC = odeint(cap_continua, C_0, tt, args = (r,))\n",
    "    # Gráfico\n",
    "    plt.figure(num=1)  # Figura 1\n",
    "    plt.clf()  # Borrar lo que contenga\n",
    "    plt.plot(tt, CC, '-', linewidth=3)  # Se grafica la evolución de los capitales\n",
    "    plt.plot(tt,meta*np.ones(len(tt)),'--k')  # Se grafica la meta\n",
    "    plt.xlabel('t')  # Etiqueta eje x\n",
    "    plt.ylabel('C(t)')  # Etiqueta eje y\n",
    "    plt.grid()  # Malla en la gráfica\n",
    "    plt.show()  # Mostrar la figura\n",
    "    print(\"El tiempo que se debe dejar invertido el dinero para llegar a la meta de \", meta,\" es \", t, \" meses.\", sep=\"\")"
   ]
  },
  {
   "cell_type": "code",
   "execution_count": 37,
   "metadata": {},
   "outputs": [
    {
     "data": {
      "application/vnd.jupyter.widget-view+json": {
       "model_id": "ba3798941366471895a05bd73442e002",
       "version_major": 2,
       "version_minor": 0
      },
      "text/plain": [
       "interactive(children=(IntSlider(value=11000, description='meta', max=12000, min=10000, step=100), Button(descr…"
      ]
     },
     "metadata": {},
     "output_type": "display_data"
    }
   ],
   "source": [
    "interact_manual(interes_continuo,\n",
    "                C_0=fixed(10000),\n",
    "                meta=(10000,12000,100),\n",
    "                r=fixed(np.log(1+0.008)));"
   ]
  },
  {
   "cell_type": "markdown",
   "metadata": {},
   "source": [
    "### Actividad. \n",
    "1. Resolver simbólicamente y numéricamente la siguiente ecuación diferencial:\n",
    "$$\\frac{dx}{dt}=\\frac{x}{t+1}; \\quad x(0) = 1$$"
   ]
  },
  {
   "cell_type": "code",
   "execution_count": 8,
   "metadata": {},
   "outputs": [
    {
     "data": {
      "text/latex": [
       "$\\displaystyle \\frac{d}{d t} x{\\left(t \\right)} - \\frac{x{\\left(t \\right)}}{t + 1} = 0$"
      ],
      "text/plain": [
       "d           x(t)    \n",
       "──(x(t)) - ───── = 0\n",
       "dt         t + 1    "
      ]
     },
     "metadata": {},
     "output_type": "display_data"
    }
   ],
   "source": [
    "# Símbolos t(para el tiempo) y r(para el interés instantáneo)\n",
    "sym.var(\"t\")\n",
    "# Función de capital\n",
    "x = sym.Function('x')\n",
    "# Ecuacion diferencial\n",
    "eq = sym.Eq(sym.Derivative(x(t), t) - x(t) / (t + 1), 0)\n",
    "display(eq)"
   ]
  },
  {
   "cell_type": "code",
   "execution_count": 10,
   "metadata": {},
   "outputs": [
    {
     "data": {
      "text/latex": [
       "$\\displaystyle x{\\left(t \\right)} = C_{1} \\left(t + 1\\right)$"
      ],
      "text/plain": [
       "x(t) = C₁⋅(t + 1)"
      ]
     },
     "execution_count": 10,
     "metadata": {},
     "output_type": "execute_result"
    }
   ],
   "source": [
    "# Resolver\n",
    "sym.dsolve(eq, x(t))"
   ]
  },
  {
   "cell_type": "markdown",
   "metadata": {},
   "source": [
    "Despejamos la constante usando la condición inicial:\n",
    "\n",
    "$$\n",
    "1=x(0)=C_1(0 + 1)=C_1\n",
    "$$"
   ]
  },
  {
   "cell_type": "markdown",
   "metadata": {},
   "source": [
    "Finalmente, la solución es:\n",
    "\n",
    "$$\n",
    "x(t) = t + 1\n",
    "$$"
   ]
  },
  {
   "cell_type": "markdown",
   "metadata": {},
   "source": [
    "2. Obtener la solución numérica."
   ]
  },
  {
   "cell_type": "code",
   "execution_count": 11,
   "metadata": {},
   "outputs": [],
   "source": [
    "# Funcion a integrar\n",
    "def fun(x, t):\n",
    "    return x / (t + 1)"
   ]
  },
  {
   "cell_type": "code",
   "execution_count": 13,
   "metadata": {},
   "outputs": [],
   "source": [
    "import numpy as np"
   ]
  },
  {
   "cell_type": "code",
   "execution_count": 14,
   "metadata": {},
   "outputs": [],
   "source": [
    "# Condicion inicial\n",
    "x0 = 1\n",
    "# Vector de tiempo\n",
    "t = np.linspace(0, 10)"
   ]
  },
  {
   "cell_type": "code",
   "execution_count": 15,
   "metadata": {},
   "outputs": [],
   "source": [
    "from scipy.integrate import odeint"
   ]
  },
  {
   "cell_type": "code",
   "execution_count": 17,
   "metadata": {},
   "outputs": [],
   "source": [
    "# Solucion numerica\n",
    "sol = odeint(func=fun,\n",
    "             y0=x0,\n",
    "             t=t)"
   ]
  },
  {
   "cell_type": "code",
   "execution_count": 18,
   "metadata": {},
   "outputs": [
    {
     "data": {
      "text/plain": [
       "array([[ 1.        ],\n",
       "       [ 1.20408163],\n",
       "       [ 1.40816327],\n",
       "       [ 1.6122449 ],\n",
       "       [ 1.81632653],\n",
       "       [ 2.02040816],\n",
       "       [ 2.2244898 ],\n",
       "       [ 2.42857143],\n",
       "       [ 2.63265306],\n",
       "       [ 2.83673469],\n",
       "       [ 3.04081633],\n",
       "       [ 3.24489796],\n",
       "       [ 3.44897959],\n",
       "       [ 3.65306122],\n",
       "       [ 3.85714286],\n",
       "       [ 4.06122449],\n",
       "       [ 4.26530612],\n",
       "       [ 4.46938776],\n",
       "       [ 4.67346939],\n",
       "       [ 4.87755102],\n",
       "       [ 5.08163265],\n",
       "       [ 5.28571429],\n",
       "       [ 5.48979592],\n",
       "       [ 5.69387755],\n",
       "       [ 5.89795918],\n",
       "       [ 6.10204082],\n",
       "       [ 6.30612245],\n",
       "       [ 6.51020408],\n",
       "       [ 6.71428571],\n",
       "       [ 6.91836735],\n",
       "       [ 7.12244898],\n",
       "       [ 7.32653061],\n",
       "       [ 7.53061224],\n",
       "       [ 7.73469388],\n",
       "       [ 7.93877551],\n",
       "       [ 8.14285714],\n",
       "       [ 8.34693878],\n",
       "       [ 8.55102041],\n",
       "       [ 8.75510204],\n",
       "       [ 8.95918367],\n",
       "       [ 9.16326531],\n",
       "       [ 9.36734694],\n",
       "       [ 9.57142857],\n",
       "       [ 9.7755102 ],\n",
       "       [ 9.97959184],\n",
       "       [10.18367347],\n",
       "       [10.3877551 ],\n",
       "       [10.59183673],\n",
       "       [10.79591837],\n",
       "       [11.        ]])"
      ]
     },
     "execution_count": 18,
     "metadata": {},
     "output_type": "execute_result"
    }
   ],
   "source": [
    "sol"
   ]
  },
  {
   "cell_type": "code",
   "execution_count": 19,
   "metadata": {},
   "outputs": [],
   "source": [
    "from matplotlib import pyplot as plt"
   ]
  },
  {
   "cell_type": "code",
   "execution_count": 22,
   "metadata": {},
   "outputs": [
    {
     "data": {
      "text/plain": [
       "[<matplotlib.lines.Line2D at 0x7f967a4f8cd0>]"
      ]
     },
     "execution_count": 22,
     "metadata": {},
     "output_type": "execute_result"
    },
    {
     "data": {
      "image/png": "[encoded data removed]",
      "text/plain": [
       "<Figure size 432x288 with 1 Axes>"
      ]
     },
     "metadata": {
      "needs_background": "light"
     },
     "output_type": "display_data"
    }
   ],
   "source": [
    "# Grafica x vs.t\n",
    "plt.plot(t, sol[:, 0])"
   ]
  },
  {
   "cell_type": "markdown",
   "metadata": {},
   "source": [
    "3. Comparar."
   ]
  },
  {
   "cell_type": "code",
   "execution_count": null,
   "metadata": {},
   "outputs": [],
   "source": [
    "# Grafica x vs.t\n"
   ]
  },
  {
   "cell_type": "markdown",
   "metadata": {},
   "source": [
    "___\n",
    "## Tabla de abonos\n",
    "Como aplicación importante del concepto de interés compuesto se encuentra la creación de un modelo de cuenta de ahorro.\n",
    "\n",
    "Referencia:\n",
    "- Vidaurri Aguirre, Héctor Manuel. *Ingeniería económica básica*, ISBN: 978-607-519-017-4. (Disponible en biblioteca)\n",
    "- http://pbpython.com/amortization-model.html"
   ]
  },
  {
   "cell_type": "code",
   "execution_count": 38,
   "metadata": {},
   "outputs": [],
   "source": [
    "# Librería de análisis de datos\n",
    "import pandas as pd\n",
    "# Librería para manipulación de fechas\n",
    "from datetime import date"
   ]
  },
  {
   "cell_type": "code",
   "execution_count": 39,
   "metadata": {},
   "outputs": [
    {
     "data": {
      "text/html": [
       "<div>\n",
       "<style scoped>\n",
       "    .dataframe tbody tr th:only-of-type {\n",
       "        vertical-align: middle;\n",
       "    }\n",
       "\n",
       "    .dataframe tbody tr th {\n",
       "        vertical-align: top;\n",
       "    }\n",
       "\n",
       "    .dataframe thead th {\n",
       "        text-align: right;\n",
       "    }\n",
       "</style>\n",
       "<table border=\"1\" class=\"dataframe\">\n",
       "  <thead>\n",
       "    <tr style=\"text-align: right;\">\n",
       "      <th></th>\n",
       "      <th>Fecha del abono</th>\n",
       "      <th>Abono</th>\n",
       "      <th>Balance</th>\n",
       "    </tr>\n",
       "    <tr>\n",
       "      <th>Periodo</th>\n",
       "      <th></th>\n",
       "      <th></th>\n",
       "      <th></th>\n",
       "    </tr>\n",
       "  </thead>\n",
       "  <tbody>\n",
       "    <tr>\n",
       "      <th>1</th>\n",
       "      <td>2021-05-01</td>\n",
       "      <td>347.15</td>\n",
       "      <td>50680.49</td>\n",
       "    </tr>\n",
       "    <tr>\n",
       "      <th>2</th>\n",
       "      <td>2021-06-01</td>\n",
       "      <td>347.15</td>\n",
       "      <td>51365.51</td>\n",
       "    </tr>\n",
       "    <tr>\n",
       "      <th>3</th>\n",
       "      <td>2021-07-01</td>\n",
       "      <td>347.15</td>\n",
       "      <td>52055.10</td>\n",
       "    </tr>\n",
       "    <tr>\n",
       "      <th>4</th>\n",
       "      <td>2021-08-01</td>\n",
       "      <td>347.15</td>\n",
       "      <td>52749.29</td>\n",
       "    </tr>\n",
       "    <tr>\n",
       "      <th>5</th>\n",
       "      <td>2021-09-01</td>\n",
       "      <td>347.15</td>\n",
       "      <td>53448.10</td>\n",
       "    </tr>\n",
       "    <tr>\n",
       "      <th>6</th>\n",
       "      <td>2021-10-01</td>\n",
       "      <td>347.15</td>\n",
       "      <td>54151.57</td>\n",
       "    </tr>\n",
       "    <tr>\n",
       "      <th>7</th>\n",
       "      <td>2021-11-01</td>\n",
       "      <td>347.15</td>\n",
       "      <td>54859.74</td>\n",
       "    </tr>\n",
       "    <tr>\n",
       "      <th>8</th>\n",
       "      <td>2021-12-01</td>\n",
       "      <td>347.15</td>\n",
       "      <td>55572.62</td>\n",
       "    </tr>\n",
       "    <tr>\n",
       "      <th>9</th>\n",
       "      <td>2022-01-01</td>\n",
       "      <td>347.15</td>\n",
       "      <td>56290.26</td>\n",
       "    </tr>\n",
       "    <tr>\n",
       "      <th>10</th>\n",
       "      <td>2022-02-01</td>\n",
       "      <td>347.15</td>\n",
       "      <td>57012.68</td>\n",
       "    </tr>\n",
       "    <tr>\n",
       "      <th>11</th>\n",
       "      <td>2022-03-01</td>\n",
       "      <td>347.15</td>\n",
       "      <td>57739.92</td>\n",
       "    </tr>\n",
       "    <tr>\n",
       "      <th>12</th>\n",
       "      <td>2022-04-01</td>\n",
       "      <td>347.15</td>\n",
       "      <td>58472.01</td>\n",
       "    </tr>\n",
       "    <tr>\n",
       "      <th>13</th>\n",
       "      <td>2022-05-01</td>\n",
       "      <td>347.15</td>\n",
       "      <td>59208.97</td>\n",
       "    </tr>\n",
       "    <tr>\n",
       "      <th>14</th>\n",
       "      <td>2022-06-01</td>\n",
       "      <td>347.15</td>\n",
       "      <td>59950.85</td>\n",
       "    </tr>\n",
       "    <tr>\n",
       "      <th>15</th>\n",
       "      <td>2022-07-01</td>\n",
       "      <td>347.15</td>\n",
       "      <td>60697.68</td>\n",
       "    </tr>\n",
       "    <tr>\n",
       "      <th>16</th>\n",
       "      <td>2022-08-01</td>\n",
       "      <td>347.15</td>\n",
       "      <td>61449.48</td>\n",
       "    </tr>\n",
       "    <tr>\n",
       "      <th>17</th>\n",
       "      <td>2022-09-01</td>\n",
       "      <td>347.15</td>\n",
       "      <td>62206.30</td>\n",
       "    </tr>\n",
       "    <tr>\n",
       "      <th>18</th>\n",
       "      <td>2022-10-01</td>\n",
       "      <td>347.15</td>\n",
       "      <td>62968.16</td>\n",
       "    </tr>\n",
       "    <tr>\n",
       "      <th>19</th>\n",
       "      <td>2022-11-01</td>\n",
       "      <td>347.15</td>\n",
       "      <td>63735.10</td>\n",
       "    </tr>\n",
       "    <tr>\n",
       "      <th>20</th>\n",
       "      <td>2022-12-01</td>\n",
       "      <td>347.15</td>\n",
       "      <td>64507.15</td>\n",
       "    </tr>\n",
       "    <tr>\n",
       "      <th>21</th>\n",
       "      <td>2023-01-01</td>\n",
       "      <td>347.15</td>\n",
       "      <td>65284.35</td>\n",
       "    </tr>\n",
       "    <tr>\n",
       "      <th>22</th>\n",
       "      <td>2023-02-01</td>\n",
       "      <td>347.15</td>\n",
       "      <td>66066.74</td>\n",
       "    </tr>\n",
       "    <tr>\n",
       "      <th>23</th>\n",
       "      <td>2023-03-01</td>\n",
       "      <td>347.15</td>\n",
       "      <td>66854.33</td>\n",
       "    </tr>\n",
       "    <tr>\n",
       "      <th>24</th>\n",
       "      <td>2023-04-01</td>\n",
       "      <td>347.15</td>\n",
       "      <td>67647.18</td>\n",
       "    </tr>\n",
       "    <tr>\n",
       "      <th>25</th>\n",
       "      <td>2023-05-01</td>\n",
       "      <td>347.15</td>\n",
       "      <td>68445.32</td>\n",
       "    </tr>\n",
       "    <tr>\n",
       "      <th>26</th>\n",
       "      <td>2023-06-01</td>\n",
       "      <td>347.15</td>\n",
       "      <td>69248.77</td>\n",
       "    </tr>\n",
       "    <tr>\n",
       "      <th>27</th>\n",
       "      <td>2023-07-01</td>\n",
       "      <td>347.15</td>\n",
       "      <td>70057.58</td>\n",
       "    </tr>\n",
       "    <tr>\n",
       "      <th>28</th>\n",
       "      <td>2023-08-01</td>\n",
       "      <td>347.15</td>\n",
       "      <td>70871.79</td>\n",
       "    </tr>\n",
       "    <tr>\n",
       "      <th>29</th>\n",
       "      <td>2023-09-01</td>\n",
       "      <td>347.15</td>\n",
       "      <td>71691.42</td>\n",
       "    </tr>\n",
       "    <tr>\n",
       "      <th>30</th>\n",
       "      <td>2023-10-01</td>\n",
       "      <td>347.15</td>\n",
       "      <td>72516.51</td>\n",
       "    </tr>\n",
       "    <tr>\n",
       "      <th>31</th>\n",
       "      <td>2023-11-01</td>\n",
       "      <td>347.15</td>\n",
       "      <td>73347.11</td>\n",
       "    </tr>\n",
       "    <tr>\n",
       "      <th>32</th>\n",
       "      <td>2023-12-01</td>\n",
       "      <td>347.15</td>\n",
       "      <td>74183.24</td>\n",
       "    </tr>\n",
       "    <tr>\n",
       "      <th>33</th>\n",
       "      <td>2024-01-01</td>\n",
       "      <td>347.15</td>\n",
       "      <td>75024.95</td>\n",
       "    </tr>\n",
       "    <tr>\n",
       "      <th>34</th>\n",
       "      <td>2024-02-01</td>\n",
       "      <td>347.15</td>\n",
       "      <td>75872.27</td>\n",
       "    </tr>\n",
       "    <tr>\n",
       "      <th>35</th>\n",
       "      <td>2024-03-01</td>\n",
       "      <td>347.15</td>\n",
       "      <td>76725.24</td>\n",
       "    </tr>\n",
       "    <tr>\n",
       "      <th>36</th>\n",
       "      <td>2024-04-01</td>\n",
       "      <td>347.15</td>\n",
       "      <td>77583.89</td>\n",
       "    </tr>\n",
       "    <tr>\n",
       "      <th>37</th>\n",
       "      <td>2024-05-01</td>\n",
       "      <td>347.15</td>\n",
       "      <td>78448.27</td>\n",
       "    </tr>\n",
       "    <tr>\n",
       "      <th>38</th>\n",
       "      <td>2024-06-01</td>\n",
       "      <td>347.15</td>\n",
       "      <td>79318.42</td>\n",
       "    </tr>\n",
       "    <tr>\n",
       "      <th>39</th>\n",
       "      <td>2024-07-01</td>\n",
       "      <td>347.15</td>\n",
       "      <td>80194.36</td>\n",
       "    </tr>\n",
       "    <tr>\n",
       "      <th>40</th>\n",
       "      <td>2024-08-01</td>\n",
       "      <td>347.15</td>\n",
       "      <td>81076.14</td>\n",
       "    </tr>\n",
       "    <tr>\n",
       "      <th>41</th>\n",
       "      <td>2024-09-01</td>\n",
       "      <td>347.15</td>\n",
       "      <td>81963.80</td>\n",
       "    </tr>\n",
       "    <tr>\n",
       "      <th>42</th>\n",
       "      <td>2024-10-01</td>\n",
       "      <td>347.15</td>\n",
       "      <td>82857.38</td>\n",
       "    </tr>\n",
       "    <tr>\n",
       "      <th>43</th>\n",
       "      <td>2024-11-01</td>\n",
       "      <td>347.15</td>\n",
       "      <td>83756.91</td>\n",
       "    </tr>\n",
       "    <tr>\n",
       "      <th>44</th>\n",
       "      <td>2024-12-01</td>\n",
       "      <td>347.15</td>\n",
       "      <td>84662.45</td>\n",
       "    </tr>\n",
       "    <tr>\n",
       "      <th>45</th>\n",
       "      <td>2025-01-01</td>\n",
       "      <td>347.15</td>\n",
       "      <td>85574.02</td>\n",
       "    </tr>\n",
       "    <tr>\n",
       "      <th>46</th>\n",
       "      <td>2025-02-01</td>\n",
       "      <td>347.15</td>\n",
       "      <td>86491.66</td>\n",
       "    </tr>\n",
       "    <tr>\n",
       "      <th>47</th>\n",
       "      <td>2025-03-01</td>\n",
       "      <td>347.15</td>\n",
       "      <td>87415.43</td>\n",
       "    </tr>\n",
       "    <tr>\n",
       "      <th>48</th>\n",
       "      <td>2025-04-01</td>\n",
       "      <td>347.15</td>\n",
       "      <td>88345.35</td>\n",
       "    </tr>\n",
       "    <tr>\n",
       "      <th>49</th>\n",
       "      <td>2025-05-01</td>\n",
       "      <td>347.15</td>\n",
       "      <td>89281.47</td>\n",
       "    </tr>\n",
       "    <tr>\n",
       "      <th>50</th>\n",
       "      <td>2025-06-01</td>\n",
       "      <td>347.15</td>\n",
       "      <td>90223.83</td>\n",
       "    </tr>\n",
       "    <tr>\n",
       "      <th>51</th>\n",
       "      <td>2025-07-01</td>\n",
       "      <td>347.15</td>\n",
       "      <td>91172.48</td>\n",
       "    </tr>\n",
       "    <tr>\n",
       "      <th>52</th>\n",
       "      <td>2025-08-01</td>\n",
       "      <td>347.15</td>\n",
       "      <td>92127.45</td>\n",
       "    </tr>\n",
       "    <tr>\n",
       "      <th>53</th>\n",
       "      <td>2025-09-01</td>\n",
       "      <td>347.15</td>\n",
       "      <td>93088.79</td>\n",
       "    </tr>\n",
       "    <tr>\n",
       "      <th>54</th>\n",
       "      <td>2025-10-01</td>\n",
       "      <td>347.15</td>\n",
       "      <td>94056.53</td>\n",
       "    </tr>\n",
       "    <tr>\n",
       "      <th>55</th>\n",
       "      <td>2025-11-01</td>\n",
       "      <td>347.15</td>\n",
       "      <td>95030.73</td>\n",
       "    </tr>\n",
       "    <tr>\n",
       "      <th>56</th>\n",
       "      <td>2025-12-01</td>\n",
       "      <td>347.15</td>\n",
       "      <td>96011.42</td>\n",
       "    </tr>\n",
       "    <tr>\n",
       "      <th>57</th>\n",
       "      <td>2026-01-01</td>\n",
       "      <td>347.15</td>\n",
       "      <td>96998.65</td>\n",
       "    </tr>\n",
       "    <tr>\n",
       "      <th>58</th>\n",
       "      <td>2026-02-01</td>\n",
       "      <td>347.15</td>\n",
       "      <td>97992.46</td>\n",
       "    </tr>\n",
       "    <tr>\n",
       "      <th>59</th>\n",
       "      <td>2026-03-01</td>\n",
       "      <td>347.15</td>\n",
       "      <td>98992.89</td>\n",
       "    </tr>\n",
       "    <tr>\n",
       "      <th>60</th>\n",
       "      <td>2026-04-01</td>\n",
       "      <td>347.15</td>\n",
       "      <td>100000.00</td>\n",
       "    </tr>\n",
       "  </tbody>\n",
       "</table>\n",
       "</div>"
      ],
      "text/plain": [
       "        Fecha del abono   Abono    Balance\n",
       "Periodo                                   \n",
       "1            2021-05-01  347.15   50680.49\n",
       "2            2021-06-01  347.15   51365.51\n",
       "3            2021-07-01  347.15   52055.10\n",
       "4            2021-08-01  347.15   52749.29\n",
       "5            2021-09-01  347.15   53448.10\n",
       "6            2021-10-01  347.15   54151.57\n",
       "7            2021-11-01  347.15   54859.74\n",
       "8            2021-12-01  347.15   55572.62\n",
       "9            2022-01-01  347.15   56290.26\n",
       "10           2022-02-01  347.15   57012.68\n",
       "11           2022-03-01  347.15   57739.92\n",
       "12           2022-04-01  347.15   58472.01\n",
       "13           2022-05-01  347.15   59208.97\n",
       "14           2022-06-01  347.15   59950.85\n",
       "15           2022-07-01  347.15   60697.68\n",
       "16           2022-08-01  347.15   61449.48\n",
       "17           2022-09-01  347.15   62206.30\n",
       "18           2022-10-01  347.15   62968.16\n",
       "19           2022-11-01  347.15   63735.10\n",
       "20           2022-12-01  347.15   64507.15\n",
       "21           2023-01-01  347.15   65284.35\n",
       "22           2023-02-01  347.15   66066.74\n",
       "23           2023-03-01  347.15   66854.33\n",
       "24           2023-04-01  347.15   67647.18\n",
       "25           2023-05-01  347.15   68445.32\n",
       "26           2023-06-01  347.15   69248.77\n",
       "27           2023-07-01  347.15   70057.58\n",
       "28           2023-08-01  347.15   70871.79\n",
       "29           2023-09-01  347.15   71691.42\n",
       "30           2023-10-01  347.15   72516.51\n",
       "31           2023-11-01  347.15   73347.11\n",
       "32           2023-12-01  347.15   74183.24\n",
       "33           2024-01-01  347.15   75024.95\n",
       "34           2024-02-01  347.15   75872.27\n",
       "35           2024-03-01  347.15   76725.24\n",
       "36           2024-04-01  347.15   77583.89\n",
       "37           2024-05-01  347.15   78448.27\n",
       "38           2024-06-01  347.15   79318.42\n",
       "39           2024-07-01  347.15   80194.36\n",
       "40           2024-08-01  347.15   81076.14\n",
       "41           2024-09-01  347.15   81963.80\n",
       "42           2024-10-01  347.15   82857.38\n",
       "43           2024-11-01  347.15   83756.91\n",
       "44           2024-12-01  347.15   84662.45\n",
       "45           2025-01-01  347.15   85574.02\n",
       "46           2025-02-01  347.15   86491.66\n",
       "47           2025-03-01  347.15   87415.43\n",
       "48           2025-04-01  347.15   88345.35\n",
       "49           2025-05-01  347.15   89281.47\n",
       "50           2025-06-01  347.15   90223.83\n",
       "51           2025-07-01  347.15   91172.48\n",
       "52           2025-08-01  347.15   92127.45\n",
       "53           2025-09-01  347.15   93088.79\n",
       "54           2025-10-01  347.15   94056.53\n",
       "55           2025-11-01  347.15   95030.73\n",
       "56           2025-12-01  347.15   96011.42\n",
       "57           2026-01-01  347.15   96998.65\n",
       "58           2026-02-01  347.15   97992.46\n",
       "59           2026-03-01  347.15   98992.89\n",
       "60           2026-04-01  347.15  100000.00"
      ]
     },
     "execution_count": 39,
     "metadata": {},
     "output_type": "execute_result"
    }
   ],
   "source": [
    "# Datos para la cuenta de ahorro\n",
    "Tasa_interes = 0.08  # 8% anual\n",
    "Anos = 5\n",
    "Abonos_ano = 12\n",
    "Inicial = 50000\n",
    "Meta = 100000\n",
    "fecha_inicio = date(2021, 5, 1)\n",
    "\n",
    "# Tasa interés por periodo\n",
    "i = Tasa_interes / Abonos_ano  # Tasa de interés mensual\n",
    "# Total de periodos\n",
    "T = Anos * Abonos_ano  # \n",
    "\n",
    "# Cálculo de abonos mensuales iguales para llegar a la meta de ahorro en el tiempo deseado\n",
    "Abono = i * (Meta - Inicial * (1 + i)**T) / ((1 + i)**T - 1)\n",
    "\n",
    "# Rango de fechas en la tabla\n",
    "rng = pd.date_range(fecha_inicio, periods=T, freq='MS')\n",
    "rng.name = \"Fecha del abono\"\n",
    "\n",
    "# Columnas de abonos y extracto de cuenta en las fechas respectivas\n",
    "df = pd.DataFrame(index=rng, columns=['Abono', 'Balance'], dtype='float')\n",
    "\n",
    "# Para poner el indice con los periodos y no con las fechas\n",
    "df.reset_index(inplace=True)\n",
    "df.index += 1\n",
    "df.index.name = \"Periodo\"  # Columna correspondiente al periodo\n",
    "\n",
    "# Los abonos son iguales\n",
    "df[\"Abono\"] = Abono\n",
    "\n",
    "# Vector indizador de los periodos de los abonos\n",
    "index_vector = np.arange(1,len(rng)+1)\n",
    "# Extracto de la cuenta mes a mes\n",
    "df[\"Balance\"] = Inicial * (1 + i)**index_vector + Abono * (((1 + i)**index_vector - 1) / i)\n",
    "\n",
    "# Redondear con dos cifras decimales\n",
    "df = df.round(2)\n",
    "df\n",
    "\n",
    "# La siguiente solución es también válida. Sin embargo, evitar el uso de 'for'\n",
    "\n",
    "#df.loc[1, \"Balance\"] = Inicial*(1+Tasa_interes/Abonos_ano)**1 + df.loc[1, \"Abono\"]\n",
    "\n",
    "#for i in range(2, len(df)+1):\n",
    "#    # Get the previous balance as well as current payments\n",
    "#    prev_balance = df.loc[i-1, \"Balance\"]\n",
    "\n",
    "#    df.loc[i, \"Balance\"] = prev_balance*(1+Tasa_interes/Abonos_ano)**1 + df.loc[i, \"Abono\"]"
   ]
  },
  {
   "cell_type": "code",
   "execution_count": 42,
   "metadata": {},
   "outputs": [
    {
     "data": {
      "text/latex": [
       "$\\displaystyle 20829.000000000007$"
      ],
      "text/plain": [
       "20829.000000000007"
      ]
     },
     "execution_count": 42,
     "metadata": {},
     "output_type": "execute_result"
    }
   ],
   "source": [
    "df['Abono'].sum()"
   ]
  },
  {
   "cell_type": "code",
   "execution_count": 41,
   "metadata": {},
   "outputs": [
    {
     "data": {
      "image/png": "[encoded data removed]",
      "text/plain": [
       "<Figure size 432x288 with 1 Axes>"
      ]
     },
     "metadata": {
      "needs_background": "light"
     },
     "output_type": "display_data"
    }
   ],
   "source": [
    "df['Balance'].plot();"
   ]
  }
 ],
 "metadata": {
  "kernelspec": {
   "display_name": "Python 3",
   "language": "python",
   "name": "python3"
  },
  "language_info": {
   "codemirror_mode": {
    "name": "ipython",
    "version": 3
   },
   "file_extension": ".py",
   "mimetype": "text/x-python",
   "name": "python",
   "nbconvert_exporter": "python",
   "pygments_lexer": "ipython3",
   "version": "3.8.8"
  }
 },
 "nbformat": 4,
 "nbformat_minor": 2
}
