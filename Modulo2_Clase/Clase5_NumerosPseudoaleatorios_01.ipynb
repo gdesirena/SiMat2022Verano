{
 "cells": [
  {
   "cell_type": "markdown",
   "metadata": {},
   "source": [
    "<img style=\"float: left;;\" src='Figures/iteso.jpg' width=\"100\" height=\"200\"/></a>\n",
    "\n",
    "# <center> <font color= #000047> Generación de números pseudoaleatorios </font> </center>\n",
    "\n"
   ]
  },
  {
   "cell_type": "markdown",
   "metadata": {},
   "source": [
    "\n",
    "<img style=\"float: center; margin: 0px 0px 15px 15px;\" src=\"https://upload.wikimedia.org/wikipedia/commons/6/6a/Dice.jpg\" width=\"300px\" height=\"100px\" />\n",
    "\n",
    "**Referencias de la clase:**\n",
    "- https://webs.um.es/mpulido/miwiki/lib/exe/fetch.php?id=amio&cache=cache&media=wiki:simt1b.pdf\n",
    "- http://www.lmpt.univ-tours.fr/~nicolis/Licence_NEW/08-09/boxmuller.pdf\n",
    "\n",
    "**Referencias de las librerías que usaremos:**\n",
    "- http://www.numpy.org/\n",
    "- https://matplotlib.org/"
   ]
  },
  {
   "cell_type": "markdown",
   "metadata": {},
   "source": [
    "___\n",
    "## 0. Introducción\n",
    "\n",
    "- Los números aleatorios son la base esencial de la simulación de escenarios.\n",
    "- Toda la aleatoriedad involucrada en el modelo se obtiene a partir de un generador de números aleatorios que produce una sucesión de valores que supuestamente son realizaciones de una secuencia de variables aleatorias independientes e idénticamente distribuidas.\n",
    "\n"
   ]
  },
  {
   "cell_type": "markdown",
   "metadata": {},
   "source": [
    "### 0.1 ¿Qué es un número pseudoaleatorio?\n",
    "\n",
    "<img style=\"float: right; margin: 0px 0px 15px 15px;\" src=\"http://www.publicdomainpictures.net/pictures/50000/velka/random-numbers.jpg\" width=\"300px\" height=\"100px\" />\n",
    "\n",
    "- Es un número generado en un proceso que parece producir números al azar, pero no lo hace realmente.\n",
    "- Las secuencias de números pseudoaleatorios no muestran ningún patrón o regularidad aparente desde un punto de vista estadístico, a pesar de haber sido generadas por un algoritmo completamente determinista, en el que las mismas condiciones iniciales producen siempre el mismo resultado.\n",
    "- Por lo general, el interés no radica en generar un solo número aleatorio, sino muchos, reunidos en lo que se conoce como secuencia aleatoria.\n",
    "\n",
    "### 0.2 ¿En qué se aplican?\n",
    "\n",
    "- Modelado y simulación por computadora, estadística, diseño experimental. Normalmente, la entropía (aletoriedad) de los números que se generan actualmente basta para estas aplicaciones.\n",
    "- Criptografía. Este campo sigue estando en constante investigación, y por tanto la generación de números aleatorios también.\n",
    "- Asimismo, también destacan su uso en el llamado método de Montecarlo, con múltiples utilidades.\n",
    "- Entre otros...\n",
    "\n",
    "### 0.3 Funcionamiento básico\n",
    "\n",
    "- Elegir una semilla inicial (condición inicial) $x_0$.\n",
    "- Generar una sucesión de valores $x_n$ mediante la relación de recurrencia $x_n=T(x_{n-1})$.\n",
    "\n",
    "> Generalmente, esta secuencia es de números pseudoaleatorios $\\mathcal{U}(0,1)$.\n",
    "\n",
    "- Finalmente, se genera un número pseudoaleatorio con distribución deseada, definido a través de alguna relación $u_n=g(x_n)$.\n",
    "- Estas sucesiones son periódicas. Es decir, en algún momento ocurrirá que $x_j = x_i$ para algún $j > i$.\n",
    "\n",
    "### 0.4 ¿Cuándo un generador de números pseudoaleatorios es bueno?\n",
    "\n",
    "- La sucesión de valores que proporcione deberı́a asemejarse a una sucesión de realizaciones independientes de una variable aleatoria $\\mathcal{U}(0, 1)$.\n",
    "- Los resultados deben ser reproducibles, en el sentido de que comenzando con la misma semilla inicial, debe ser capaz de reproducir la misma sucesión. Esto para poder probar diferentes alrternativas bajo las mismas condiciones y/o poder depurar fallos en el modelo.\n",
    "- La sucesión de valores generados debe tener un periodo no repetitivo tan largo como sea posible."
   ]
  },
  {
   "cell_type": "markdown",
   "metadata": {},
   "source": [
    "___\n",
    "## 1. Métodos congruenciales para generación de números pseudoaleatorios $\\mathcal{U}(0,1)$\n",
    "\n",
    "- Introducidos por Lehmer en 1951.\n",
    "- Son los principales generadores de números pseudoaleatorios utilizados hoy en día.\n",
    "\n",
    "### 1.1 Descripción general del método\n",
    "\n",
    "- Comienza con un valor inicial (semilla) $x_0$, y los valores subsiguientes, $x_n$ para $n \\geq 1$, se obtienen recursivamente con la siguiente fórmula:\n",
    "\n",
    "$$x_n = (ax_{n−1} + b) \\mod m.$$\n",
    "\n",
    "- En la fórmula de arriba $\\text{mod}$ representa la operación residuo.\n",
    "- Los enteros positivos $m$, $a$ y $b$ en la fórmula se denominan:\n",
    " - $0<m$ es el módulo,\n",
    " - $0<a<m$ es el multiplicador, y\n",
    " - $0\\leq b <m$ es el incremento.\n",
    " - La semilla debe satisfacer $0\\leq x_0<m$.\n",
    "- Si $b = 0$, el generador se denomina multiplicativo.\n",
    "- En caso contrario se llama mixto."
   ]
  },
  {
   "cell_type": "markdown",
   "metadata": {},
   "source": [
    "**Ejemplo**\n",
    "\n",
    "Para tomar intuición con este método, probar a mano con los siguientes conjuntos de parámetros:\n",
    "1. $m=9$, $a=5$, $b=1$, $x_0=1$.\n",
    "2. $m=16$, $a=5$, $b=3$, $x_0=7$."
   ]
  },
  {
   "cell_type": "markdown",
   "metadata": {},
   "source": [
    "1.- $x_1 = (5*x_0 + 1) \\mod 9 = 6 \\mod 9 = 6$\n",
    "\n",
    "2.- $x_1 = (5*x_0 + 3) \\mod 16 = 38 \\mod 16 = 6$"
   ]
  },
  {
   "cell_type": "code",
   "execution_count": 1,
   "metadata": {},
   "outputs": [
    {
     "data": {
      "text/plain": [
       "6"
      ]
     },
     "execution_count": 1,
     "metadata": {},
     "output_type": "execute_result"
    }
   ],
   "source": [
    "6%9"
   ]
  },
  {
   "cell_type": "code",
   "execution_count": 2,
   "metadata": {},
   "outputs": [
    {
     "data": {
      "text/plain": [
       "6"
      ]
     },
     "execution_count": 2,
     "metadata": {},
     "output_type": "execute_result"
    }
   ],
   "source": [
    "38%16"
   ]
  },
  {
   "cell_type": "code",
   "execution_count": 4,
   "metadata": {},
   "outputs": [],
   "source": [
    "x0=1\n",
    "x1=6 % 9\n",
    "x2 = (5*x1+1)%9\n",
    "x3 =(5*x2+1)%9\n",
    "x4 =(5*x3+1)%9\n",
    "x5 =(5*x4+1)%9\n"
   ]
  },
  {
   "cell_type": "code",
   "execution_count": 5,
   "metadata": {},
   "outputs": [
    {
     "data": {
      "text/plain": [
       "[1, 6, 4, 3, 7, 0]"
      ]
     },
     "execution_count": 5,
     "metadata": {},
     "output_type": "execute_result"
    }
   ],
   "source": [
    "#generar una secuencia de número pseudoaleatorios con n=5\n",
    "seq_cong_1 = [x0,x1,x2,x3,x4,x5]\n",
    "seq_cong_1"
   ]
  },
  {
   "cell_type": "code",
   "execution_count": 8,
   "metadata": {},
   "outputs": [
    {
     "data": {
      "text/plain": [
       "[1, 6, 4]"
      ]
     },
     "execution_count": 8,
     "metadata": {},
     "output_type": "execute_result"
    }
   ],
   "source": [
    "seq_cong_1[0:3]"
   ]
  },
  {
   "cell_type": "code",
   "execution_count": 9,
   "metadata": {},
   "outputs": [
    {
     "data": {
      "text/plain": [
       "[1, 6, 4]"
      ]
     },
     "execution_count": 9,
     "metadata": {},
     "output_type": "execute_result"
    }
   ],
   "source": [
    "seq_cong_1[:3]"
   ]
  },
  {
   "cell_type": "code",
   "execution_count": 10,
   "metadata": {},
   "outputs": [],
   "source": [
    "seq_cong_1.append(10)"
   ]
  },
  {
   "cell_type": "code",
   "execution_count": 11,
   "metadata": {},
   "outputs": [
    {
     "data": {
      "text/plain": [
       "[1, 6, 4, 3, 7, 0, 10]"
      ]
     },
     "execution_count": 11,
     "metadata": {},
     "output_type": "execute_result"
    }
   ],
   "source": [
    "seq_cong_1"
   ]
  },
  {
   "cell_type": "code",
   "execution_count": 12,
   "metadata": {},
   "outputs": [
    {
     "data": {
      "text/plain": [
       "10"
      ]
     },
     "execution_count": 12,
     "metadata": {},
     "output_type": "execute_result"
    }
   ],
   "source": [
    "seq_cong_1[-1]"
   ]
  },
  {
   "cell_type": "code",
   "execution_count": 13,
   "metadata": {},
   "outputs": [],
   "source": [
    "seq_cong_1.append(1)"
   ]
  },
  {
   "cell_type": "code",
   "execution_count": 14,
   "metadata": {},
   "outputs": [
    {
     "data": {
      "text/plain": [
       "[1, 6, 4, 3, 7, 0, 10, 1]"
      ]
     },
     "execution_count": 14,
     "metadata": {},
     "output_type": "execute_result"
    }
   ],
   "source": [
    "seq_cong_1"
   ]
  },
  {
   "cell_type": "code",
   "execution_count": 15,
   "metadata": {},
   "outputs": [
    {
     "data": {
      "text/plain": [
       "1"
      ]
     },
     "execution_count": 15,
     "metadata": {},
     "output_type": "execute_result"
    }
   ],
   "source": [
    "seq_cong_1[-1]"
   ]
  },
  {
   "cell_type": "code",
   "execution_count": 18,
   "metadata": {},
   "outputs": [],
   "source": [
    "import numpy as np"
   ]
  },
  {
   "cell_type": "code",
   "execution_count": 19,
   "metadata": {},
   "outputs": [],
   "source": [
    "# Función del método congruencial\n",
    "def congruencial1(x0,a,b,m,N):\n",
    "    #inicializar la secuencia\n",
    "    seq = [x0]\n",
    "    # Ciclo for\n",
    "    for i in range(N):\n",
    "        # obtener el último elemento de la lista x_{n-1}\n",
    "        x_n_1=seq[-1]\n",
    "        # Generamos x_n\n",
    "        x_n = (a*x_n_1 + b) % m\n",
    "        #Guardamos x_n en la secuencia\n",
    "        seq.append(x_n)\n",
    "    #Retornamos la secuencia normalizada (0,1)\n",
    "    return np.array(seq)[1:]/m"
   ]
  },
  {
   "cell_type": "markdown",
   "metadata": {},
   "source": [
    "#### Probando la función con los ejemplos\n",
    "1.- $x_1 = (5*x_0 + 1) \\mod 9 = 6 \\mod 9 = 6$\n",
    "\n",
    "2.- $x_1 = (5*x_0 + 3) \\mod 16 = 38 \\mod 16 = 6$"
   ]
  },
  {
   "cell_type": "code",
   "execution_count": 20,
   "metadata": {},
   "outputs": [
    {
     "data": {
      "text/plain": [
       "array([0.66666667, 0.44444444, 0.33333333, 0.77777778, 0.        ,\n",
       "       0.11111111, 0.66666667, 0.44444444, 0.33333333, 0.77777778,\n",
       "       0.        , 0.11111111, 0.66666667, 0.44444444, 0.33333333,\n",
       "       0.77777778, 0.        , 0.11111111, 0.66666667, 0.44444444])"
      ]
     },
     "execution_count": 20,
     "metadata": {},
     "output_type": "execute_result"
    }
   ],
   "source": [
    "#1 .- \n",
    "m,a,b,x0 = 9,5,1,1\n",
    "seq1 = congruencial1(x0=x0, a=a, b=b, m=m, N=20)\n",
    "seq1"
   ]
  },
  {
   "cell_type": "code",
   "execution_count": 21,
   "metadata": {},
   "outputs": [
    {
     "data": {
      "text/plain": [
       "array([0.375 , 0.0625, 0.5   , 0.6875, 0.625 , 0.3125, 0.75  , 0.9375,\n",
       "       0.875 , 0.5625, 0.    , 0.1875, 0.125 , 0.8125, 0.25  , 0.4375,\n",
       "       0.375 , 0.0625, 0.5   , 0.6875])"
      ]
     },
     "execution_count": 21,
     "metadata": {},
     "output_type": "execute_result"
    }
   ],
   "source": [
    "# 2.- \n",
    "m,a,b,x0 = 16,5,3,7\n",
    "seq2 = congruencial1(x0=x0, a=a, b=b, m=m, N=20)\n",
    "seq2"
   ]
  },
  {
   "cell_type": "markdown",
   "metadata": {},
   "source": [
    "De acuerdo a lo anterior, ¿cómo son los números $x_i$?, ¿representa esto algún problema?, ¿cómo se podría solucionar?\n",
    "\n",
    "1. Son listas de números que se repiten.\n",
    "2. Como máximo se repiten cada $m$ (módulo). Hay que tomar $m$ grande.\n",
    "3. Son números enteros entre $0$ y $m$. Para que estén entre $0$ y $1$ hay que dividirlos entre $m$."
   ]
  },
  {
   "cell_type": "markdown",
   "metadata": {},
   "source": [
    "En efecto, un generador congruencial queda completamente determinado por los parámetros $m$, $a$, $b$ y $x_0$.\n",
    "\n",
    "**Proposición.** Los valores generados por un método congruencial verifican:\n",
    "\n",
    "$$x_n = \\left(a^n x_0+b\\frac{a^n-1}{a-1}\\right) \\mod m.$$\n",
    "\n"
   ]
  },
  {
   "cell_type": "markdown",
   "metadata": {},
   "source": [
    "### 1.2 Programemos este método\n",
    "\n",
    "De acuerdo a lo descrito arriba, quisiéramos programar una función que reciba:\n",
    "- la semilla $x_0$,\n",
    "- el multiplicador $a$,\n",
    "- el incremento $b$,\n",
    "- el módulo $m$, y\n",
    "- la cantidad de elementos de la secuencia pseudoaleatoria requeridos $n$,\n",
    "\n",
    "y que retorne la secuencia pseudoaleatoria de longitud $n$."
   ]
  },
  {
   "cell_type": "code",
   "execution_count": 22,
   "metadata": {},
   "outputs": [],
   "source": [
    "# Importar la librería numpy... útil para el manejo de datos n-dimensionales (vectores)\n",
    "def congruencial2(x0,a,b,m,N):\n",
    "    #Generar secuencia de exponentes\n",
    "    n_vec = np.arange(N+1)\n",
    "    #Generamos la secuencia\n",
    "    seq =(a**n_vec*x0 + b*((a**n_vec -1)/(a-1))) % m\n",
    "    #secuencia normalizada\n",
    "    return np.array(seq)[1:]/m"
   ]
  },
  {
   "cell_type": "markdown",
   "metadata": {},
   "source": [
    "**Ejemplo**\n",
    "\n",
    "Probar con los conjuntos de parámetros anteriores:\n",
    "1. $m=9$, $a=5$, $b=1$, $x_0=1$.\n",
    "2. $m=16$, $a=5$, $b=3$, $x_0=7$.\n",
    "\n",
    "Además,\n",
    "- Para el conjunto de parámetros 1, probar con las semillas $x_0=5,8$.\n",
    "- Para el conjunto de parámetros 2, probar con diferentes semillas."
   ]
  },
  {
   "cell_type": "code",
   "execution_count": null,
   "metadata": {},
   "outputs": [],
   "source": [
    "#### Probar acá\n"
   ]
  },
  {
   "cell_type": "code",
   "execution_count": null,
   "metadata": {},
   "outputs": [],
   "source": []
  },
  {
   "cell_type": "markdown",
   "metadata": {},
   "source": [
    "**Ejemplo**\n",
    "\n",
    "Los ciclos *for* o *while* son un atentado contra la computación eficiente. Programar de forma vectorizada usando la fórmila:\n",
    "$$x_n = \\left(a^n x_0+b\\frac{a^n-1}{a-1}\\right) \\mod m.$$"
   ]
  },
  {
   "cell_type": "code",
   "execution_count": 23,
   "metadata": {},
   "outputs": [],
   "source": [
    "#### Escribir la función acá\n",
    "def congruencial2(x0,a,b,m,N):\n",
    "    #Generar secuencia de exponentes\n",
    "    n_vec = np.arange(N+1)\n",
    "    #Generamos la secuencia\n",
    "    seq =(a**n_vec*x0 + b*((a**n_vec -1)/(a-1))) % m\n",
    "    #secuencia normalizada\n",
    "    return np.array(seq)[1:]/m"
   ]
  },
  {
   "cell_type": "code",
   "execution_count": 24,
   "metadata": {},
   "outputs": [
    {
     "data": {
      "text/plain": [
       "array([0.66666667, 0.44444444, 0.33333333, 0.77777778, 0.        ,\n",
       "       0.11111111, 0.66666667, 0.44444444, 0.33333333, 0.77777778,\n",
       "       0.        , 0.11111111, 0.66666667, 0.88888889, 0.44444444,\n",
       "       0.77777778, 0.11111111, 0.77777778, 0.44444444, 0.88888889])"
      ]
     },
     "execution_count": 24,
     "metadata": {},
     "output_type": "execute_result"
    }
   ],
   "source": [
    "#### Probar acá\n",
    "#1 .- \n",
    "m,a,b,x0 = 9,5,1,1\n",
    "seq3 = congruencial2(x0=x0, a=a, b=b, m=m, N=20)\n",
    "seq3"
   ]
  },
  {
   "cell_type": "code",
   "execution_count": 25,
   "metadata": {},
   "outputs": [
    {
     "data": {
      "text/plain": [
       "array([0.375 , 0.0625, 0.5   , 0.6875, 0.625 , 0.3125, 0.75  , 0.9375,\n",
       "       0.875 , 0.5625, 0.    , 0.1875, 0.125 , 0.8125, 0.25  , 0.4375,\n",
       "       0.375 , 0.0625, 0.5   , 0.6875])"
      ]
     },
     "execution_count": 25,
     "metadata": {},
     "output_type": "execute_result"
    }
   ],
   "source": [
    "# 2.- \n",
    "m,a,b,x0 = 16,5,3,7\n",
    "seq4 = congruencial2(x0=x0, a=a, b=b, m=m, N=20)\n",
    "seq4"
   ]
  },
  {
   "cell_type": "markdown",
   "metadata": {},
   "source": [
    "Entonces vemos que la calidad de nuestro generador congruencial depende fuertemente de la elección de los parámetros, pues quisiéramos que los periodos sean lo más grandes posible ($m$).\n",
    "\n",
    "Cuando el periodo de un generador congruencial coincide con el módulo $m$, lo llamaremos *generador de ciclo completo*. El periodo de este tipo de generadores es independiente de la semilla que utilicemos.\n",
    "\n",
    "El siguiente Teorema nos da condiciones para crear generadores de ciclo completo:"
   ]
  },
  {
   "cell_type": "markdown",
   "metadata": {},
   "source": [
    "**Teorema.** Un generador congruencial tiene periodo completo si y sólo si se cumplen las siguientes condiciones:\n",
    "1. $m$ y $b$ son primos entre sı́.\n",
    "2. Si $q$ es un número primo que divide a $m$, entonces $q$ divide a $a − 1$.\n",
    "3. Si $4$ divide a m, entonces 4 divide a $a − 1$."
   ]
  },
  {
   "cell_type": "markdown",
   "metadata": {},
   "source": [
    "**Ejercicio**\n",
    "\n",
    "Comprobar el teorema en el conjunto de parámetros 2."
   ]
  },
  {
   "cell_type": "markdown",
   "metadata": {},
   "source": [
    "### 1.3 Comentarios adicionales sobre el generador congruencial\n",
    "\n",
    "Hasta ahora solo nos basamos en aspectos teóricos para ver si un generador es bueno. También hay aspectos computacionales...\n",
    "\n",
    "En ese sentido los generadores multiplicativos son más eficientes que los mixtos porque se ahorran la operación de suma. Sin embargo, por el **Teorema** <font color=red>¿qué pasa con los generadores multiplicativos?</font>\n",
    "\n",
    "De igual forma, una elección computacionalmente adecuada es $m=2^k$ (se elige m grande para tener periodos grandes). Con esta elección, y $k\\geq2$, el generador tendrá periodo completo si y sólo si $b$ es impar y $1 = a \\mod 4$.\n",
    "\n",
    "Si se combina lo anterior (generador multiplicativo con $m=2^k$), obtenemos que el periodo máximo que se puede obtener es una cuarta parte de $m$, $\\frac{2^k}{4}=2^{k-2}$ y se alcanza únicamente para $x_0$ impar y, $3 = a \\mod 8$ o $5 = a \\mod 8$.\n",
    "\n",
    "Un generador multiplicativo muy utilizado, conocido como *RANDU*, tomaba $m = 2^{31}$ y $a = 2^{16} + 3$. Sin embargo, se ha demostrado que tiene propiedades estadı́sticas bastante malas.\n",
    "\n",
    "Los generadores multiplicativos más famosos utilizados por IBM tomaban $m = 2^{31} − 1$ y $a = 7^5, 630360016$.\n",
    "\n",
    "Pueden encontrar más información en este [enlace](https://en.wikipedia.org/wiki/Linear_congruential_generator).\n",
    "\n",
    "- Se pueden hacer combinaciones de generadores y otros generadores más complicados..."
   ]
  },
  {
   "cell_type": "markdown",
   "metadata": {},
   "source": [
    "**Ejemplo**\n",
    "\n",
    "Tomar los parámetros $m=2^{31} − 1$, $a=1103515245$ y $b=12345$, y generar una secuencia pseudoaleatoria uniforme estándar de $n=10^4$ elementos.\n",
    "\n",
    "Luego, dibujar el histograma (diagrama de frecuencias). ¿Corresponde lo obtenido con lo que se imaginaban?"
   ]
  },
  {
   "cell_type": "code",
   "execution_count": 26,
   "metadata": {},
   "outputs": [],
   "source": [
    "#### Resolver acá\n",
    "\n",
    "m=2**31-1\n",
    "a=1103515245\n",
    "b=12345\n",
    "N=10**4"
   ]
  },
  {
   "cell_type": "code",
   "execution_count": 27,
   "metadata": {},
   "outputs": [
    {
     "name": "stdout",
     "output_type": "stream",
     "text": [
      "3.32 ms ± 72.3 µs per loop (mean ± std. dev. of 7 runs, 100 loops each)\n"
     ]
    }
   ],
   "source": [
    "%timeit seq = congruencial1(x0,a,b,m,N)"
   ]
  },
  {
   "cell_type": "code",
   "execution_count": 28,
   "metadata": {},
   "outputs": [
    {
     "name": "stdout",
     "output_type": "stream",
     "text": [
      "739 µs ± 33.5 µs per loop (mean ± std. dev. of 7 runs, 1000 loops each)\n"
     ]
    }
   ],
   "source": [
    "%timeit seq = congruencial2(x0,a,b,m,N)"
   ]
  },
  {
   "cell_type": "code",
   "execution_count": 33,
   "metadata": {},
   "outputs": [
    {
     "data": {
      "text/plain": [
       "array([0.59705606, 0.64410542, 0.02684921, ..., 0.35574647, 0.86032399,\n",
       "       0.12087384])"
      ]
     },
     "execution_count": 33,
     "metadata": {},
     "output_type": "execute_result"
    }
   ],
   "source": [
    "seq = congruencial2(x0,a,b,m,N=10**6)\n",
    "seq"
   ]
  },
  {
   "cell_type": "code",
   "execution_count": 34,
   "metadata": {},
   "outputs": [],
   "source": [
    "#importar pyplot de matplotlib\n",
    "import matplotlib.pyplot as plt"
   ]
  },
  {
   "cell_type": "code",
   "execution_count": 35,
   "metadata": {},
   "outputs": [
    {
     "data": {
      "text/plain": [
       "(array([10164.,  9989., 10053., 10006., 10128.,  9993.,  9892., 10085.,\n",
       "         9980.,  9876.,  9978., 10034.,  9993., 10044., 10120.,  9961.,\n",
       "         9917., 10253., 10098., 10262.,  9868., 10154.,  9819.,  9966.,\n",
       "        10014.,  9872.,  9886.,  9879., 10157., 10021., 10101.,  9925.,\n",
       "         9855.,  9998., 10054.,  9999., 10108.,  9971.,  9907.,  9972.,\n",
       "         9775., 10060., 10014.,  9996.,  9981., 10069.,  9857., 10140.,\n",
       "         9878.,  9988.,  9984., 10123., 10124.,  9921.,  9882., 10025.,\n",
       "        10168.,  9953.,  9922.,  9873.,  9940., 10000., 10045., 10053.,\n",
       "         9999.,  9972., 10153.,  9974., 10070.,  9859., 10143.,  9838.,\n",
       "        10025.,  9956.,  9930., 10254.,  9897., 10151., 10005., 10046.,\n",
       "         9932.,  9991.,  9979., 10010., 10136., 10011.,  9931., 10072.,\n",
       "         9969., 10093.,  9886., 10011.,  9961.,  9867., 10105.,  9731.,\n",
       "         9933.,  9951., 10035., 10001.]),\n",
       " array([2.38381527e-07, 1.00002321e-02, 2.00002258e-02, 3.00002196e-02,\n",
       "        4.00002133e-02, 5.00002070e-02, 6.00002008e-02, 7.00001945e-02,\n",
       "        8.00001882e-02, 9.00001820e-02, 1.00000176e-01, 1.10000169e-01,\n",
       "        1.20000163e-01, 1.30000157e-01, 1.40000151e-01, 1.50000144e-01,\n",
       "        1.60000138e-01, 1.70000132e-01, 1.80000126e-01, 1.90000119e-01,\n",
       "        2.00000113e-01, 2.10000107e-01, 2.20000101e-01, 2.30000094e-01,\n",
       "        2.40000088e-01, 2.50000082e-01, 2.60000075e-01, 2.70000069e-01,\n",
       "        2.80000063e-01, 2.90000057e-01, 3.00000050e-01, 3.10000044e-01,\n",
       "        3.20000038e-01, 3.30000032e-01, 3.40000025e-01, 3.50000019e-01,\n",
       "        3.60000013e-01, 3.70000007e-01, 3.80000000e-01, 3.89999994e-01,\n",
       "        3.99999988e-01, 4.09999981e-01, 4.19999975e-01, 4.29999969e-01,\n",
       "        4.39999963e-01, 4.49999956e-01, 4.59999950e-01, 4.69999944e-01,\n",
       "        4.79999938e-01, 4.89999931e-01, 4.99999925e-01, 5.09999919e-01,\n",
       "        5.19999912e-01, 5.29999906e-01, 5.39999900e-01, 5.49999894e-01,\n",
       "        5.59999887e-01, 5.69999881e-01, 5.79999875e-01, 5.89999869e-01,\n",
       "        5.99999862e-01, 6.09999856e-01, 6.19999850e-01, 6.29999844e-01,\n",
       "        6.39999837e-01, 6.49999831e-01, 6.59999825e-01, 6.69999818e-01,\n",
       "        6.79999812e-01, 6.89999806e-01, 6.99999800e-01, 7.09999793e-01,\n",
       "        7.19999787e-01, 7.29999781e-01, 7.39999775e-01, 7.49999768e-01,\n",
       "        7.59999762e-01, 7.69999756e-01, 7.79999750e-01, 7.89999743e-01,\n",
       "        7.99999737e-01, 8.09999731e-01, 8.19999724e-01, 8.29999718e-01,\n",
       "        8.39999712e-01, 8.49999706e-01, 8.59999699e-01, 8.69999693e-01,\n",
       "        8.79999687e-01, 8.89999681e-01, 8.99999674e-01, 9.09999668e-01,\n",
       "        9.19999662e-01, 9.29999656e-01, 9.39999649e-01, 9.49999643e-01,\n",
       "        9.59999637e-01, 9.69999630e-01, 9.79999624e-01, 9.89999618e-01,\n",
       "        9.99999612e-01]),\n",
       " <BarContainer object of 100 artists>)"
      ]
     },
     "execution_count": 35,
     "metadata": {},
     "output_type": "execute_result"
    },
    {
     "data": {
      "image/png": "[encoded data removed]",
      "text/plain": [
       "<Figure size 432x288 with 1 Axes>"
      ]
     },
     "metadata": {
      "needs_background": "light"
     },
     "output_type": "display_data"
    }
   ],
   "source": [
    "plt.hist(seq,bins=100)"
   ]
  },
  {
   "cell_type": "code",
   "execution_count": null,
   "metadata": {},
   "outputs": [],
   "source": []
  },
  {
   "cell_type": "markdown",
   "metadata": {},
   "source": [
    "**Ejemplo**\n",
    "\n",
    "¿Cómo hacer para obtener secuencias pseudoaleatorias en $\\mathcal{U}(c,d)$?\n",
    "\n",
    "Realizar un código para esto. Hacer una prueba con los parámetros anteriormente tomados y dibujar el histograma para contrastar."
   ]
  },
  {
   "cell_type": "code",
   "execution_count": 36,
   "metadata": {},
   "outputs": [
    {
     "data": {
      "text/plain": [
       "array([0.59705606, 0.64410542, 0.02684921, ..., 0.35574647, 0.86032399,\n",
       "       0.12087384])"
      ]
     },
     "execution_count": 36,
     "metadata": {},
     "output_type": "execute_result"
    }
   ],
   "source": [
    "seq = congruencial2(x0,a,b,m,N=10**6)\n",
    "seq"
   ]
  },
  {
   "cell_type": "code",
   "execution_count": 37,
   "metadata": {},
   "outputs": [
    {
     "data": {
      "text/plain": [
       "array([12.98528028, 13.2205271 , 10.13424603, ..., 11.77873234,\n",
       "       14.30161993, 10.60436919])"
      ]
     },
     "execution_count": 37,
     "metadata": {},
     "output_type": "execute_result"
    }
   ],
   "source": [
    "c=10\n",
    "d=15\n",
    "nueva_seq = c + seq*(d-c)\n",
    "nueva_seq"
   ]
  },
  {
   "cell_type": "code",
   "execution_count": 38,
   "metadata": {},
   "outputs": [
    {
     "data": {
      "text/plain": [
       "(array([10164.,  9989., 10053., 10006., 10128.,  9993.,  9892., 10085.,\n",
       "         9980.,  9876.,  9978., 10034.,  9993., 10044., 10120.,  9961.,\n",
       "         9917., 10253., 10098., 10262.,  9868., 10154.,  9819.,  9966.,\n",
       "        10014.,  9872.,  9886.,  9879., 10157., 10021., 10101.,  9925.,\n",
       "         9855.,  9998., 10054.,  9999., 10108.,  9971.,  9907.,  9972.,\n",
       "         9775., 10060., 10014.,  9996.,  9981., 10069.,  9857., 10140.,\n",
       "         9878.,  9988.,  9984., 10123., 10124.,  9921.,  9882., 10025.,\n",
       "        10168.,  9953.,  9922.,  9873.,  9940., 10000., 10045., 10053.,\n",
       "         9999.,  9972., 10153.,  9974., 10070.,  9859., 10143.,  9838.,\n",
       "        10025.,  9956.,  9930., 10254.,  9897., 10151., 10005., 10046.,\n",
       "         9932.,  9991.,  9979., 10010., 10136., 10011.,  9931., 10072.,\n",
       "         9969., 10093.,  9886., 10011.,  9961.,  9867., 10105.,  9731.,\n",
       "         9933.,  9951., 10035., 10001.]),\n",
       " array([10.00000119, 10.05000116, 10.10000113, 10.1500011 , 10.20000107,\n",
       "        10.25000104, 10.300001  , 10.35000097, 10.40000094, 10.45000091,\n",
       "        10.50000088, 10.55000085, 10.60000082, 10.65000078, 10.70000075,\n",
       "        10.75000072, 10.80000069, 10.85000066, 10.90000063, 10.9500006 ,\n",
       "        11.00000057, 11.05000053, 11.1000005 , 11.15000047, 11.20000044,\n",
       "        11.25000041, 11.30000038, 11.35000035, 11.40000031, 11.45000028,\n",
       "        11.50000025, 11.55000022, 11.60000019, 11.65000016, 11.70000013,\n",
       "        11.7500001 , 11.80000006, 11.85000003, 11.9       , 11.94999997,\n",
       "        11.99999994, 12.04999991, 12.09999988, 12.14999984, 12.19999981,\n",
       "        12.24999978, 12.29999975, 12.34999972, 12.39999969, 12.44999966,\n",
       "        12.49999963, 12.54999959, 12.59999956, 12.64999953, 12.6999995 ,\n",
       "        12.74999947, 12.79999944, 12.84999941, 12.89999937, 12.94999934,\n",
       "        12.99999931, 13.04999928, 13.09999925, 13.14999922, 13.19999919,\n",
       "        13.24999916, 13.29999912, 13.34999909, 13.39999906, 13.44999903,\n",
       "        13.499999  , 13.54999897, 13.59999894, 13.6499989 , 13.69999887,\n",
       "        13.74999884, 13.79999881, 13.84999878, 13.89999875, 13.94999872,\n",
       "        13.99999869, 14.04999865, 14.09999862, 14.14999859, 14.19999856,\n",
       "        14.24999853, 14.2999985 , 14.34999847, 14.39999843, 14.4499984 ,\n",
       "        14.49999837, 14.54999834, 14.59999831, 14.64999828, 14.69999825,\n",
       "        14.74999822, 14.79999818, 14.84999815, 14.89999812, 14.94999809,\n",
       "        14.99999806]),\n",
       " <BarContainer object of 100 artists>)"
      ]
     },
     "execution_count": 38,
     "metadata": {},
     "output_type": "execute_result"
    },
    {
     "data": {
      "image/png": "[encoded data removed]",
      "text/plain": [
       "<Figure size 432x288 with 1 Axes>"
      ]
     },
     "metadata": {
      "needs_background": "light"
     },
     "output_type": "display_data"
    }
   ],
   "source": [
    "plt.hist(nueva_seq,bins=100)"
   ]
  },
  {
   "cell_type": "code",
   "execution_count": null,
   "metadata": {},
   "outputs": [],
   "source": [
    "#### Resolver acá\n"
   ]
  },
  {
   "cell_type": "markdown",
   "metadata": {},
   "source": [
    "**Ejemplo**\n",
    "\n",
    "Escribir una función que devuelva secuencias de números aleatorios $\\mathcal{U}(0,1)$ usando los parámetros dados anteriormente y que use como semilla `time.time()`."
   ]
  },
  {
   "cell_type": "code",
   "execution_count": null,
   "metadata": {},
   "outputs": [],
   "source": []
  },
  {
   "cell_type": "code",
   "execution_count": null,
   "metadata": {},
   "outputs": [],
   "source": []
  },
  {
   "cell_type": "code",
   "execution_count": null,
   "metadata": {},
   "outputs": [],
   "source": [
    "#### Resolver acá\n"
   ]
  },
  {
   "cell_type": "code",
   "execution_count": null,
   "metadata": {},
   "outputs": [],
   "source": [
    "# congruencial3 (x0,a,b,m,N,c,d) -> obtener una secuencia de números pseufoaleatorios en un rango (c,d)\n",
    "\n"
   ]
  },
  {
   "cell_type": "markdown",
   "metadata": {},
   "source": [
    "___\n",
    "## 2. Método Box–Muller para generación de números pseudoaleatorios $\\mathcal{N}(0,1)$\n",
    "\n",
    "Teniendo dos secuencias de números pseudoaleatorios independientes e uniformemente distribuidos en el intervalo $\\left[0,1\\right]$ ($\\mathcal{U}(0,1)$) es posible generar dos secuencias  de números pseudoaleatorios independientes y normalmente distribuidos con media cero y varianza unitaria ($\\mathcal{N}(0,1)$).\n",
    "\n",
    "Este método se conoce como el método Box–Muller."
   ]
  },
  {
   "cell_type": "markdown",
   "metadata": {},
   "source": [
    "Supongamos que $U_1$ y $U_2$ son variables aleatorias independientes que están uniformemente distribuidas en el intervalo $\\left[0,1\\right]$. Sean entonces:\n",
    "\n",
    "$$X=R\\cos(\\theta)=\\sqrt{-2\\log(U_1)}\\cos(2\\pi U_2),$$\n",
    "\n",
    "y\n",
    "\n",
    "$$Y=R\\sin(\\theta)=\\sqrt{-2\\log(U_1)}\\sin(2\\pi U_2).$$\n",
    "\n",
    "Entonces, $X$ y $Y$ son variables aleatorias independientes con una distribución normal estándar ($\\mathcal{N}(0,1)$)."
   ]
  },
  {
   "cell_type": "markdown",
   "metadata": {},
   "source": [
    "La derivación de esto se basa en la transformación del sistema cartesiano al sistema polar.\n"
   ]
  },
  {
   "cell_type": "markdown",
   "metadata": {},
   "source": [
    "**Ejemplo**\n",
    "\n",
    "Escribir una función que devuelva secuencias de números aleatorios $\\mathcal{N}(0,1)$.\n",
    "\n",
    "*Usar la función escrita anteriormente*"
   ]
  },
  {
   "cell_type": "code",
   "execution_count": null,
   "metadata": {},
   "outputs": [],
   "source": [
    "#### Resolver acá\n"
   ]
  },
  {
   "cell_type": "markdown",
   "metadata": {},
   "source": [
    "**Ejemplo**\n",
    "\n",
    "¿Cómo hacer para obtener secuencias pseudoaleatorias en $\\mathcal{N}(\\mu,\\sigma^2)$?\n",
    "\n",
    "Realizar un código para esto. Hacer una prueba y dibujar el histograma para contrastar."
   ]
  },
  {
   "cell_type": "code",
   "execution_count": null,
   "metadata": {},
   "outputs": [],
   "source": [
    "#### Resolver acá\n"
   ]
  },
  {
   "cell_type": "markdown",
   "metadata": {},
   "source": [
    "Finalmente, mostrar que funciones de este tipo ya están en `numpy`. Ya sabemos como se obtienen."
   ]
  },
  {
   "cell_type": "code",
   "execution_count": null,
   "metadata": {},
   "outputs": [],
   "source": []
  },
  {
   "cell_type": "code",
   "execution_count": null,
   "metadata": {},
   "outputs": [],
   "source": []
  },
  {
   "cell_type": "code",
   "execution_count": null,
   "metadata": {},
   "outputs": [],
   "source": []
  }
 ],
 "metadata": {
  "kernelspec": {
   "display_name": "Python 3",
   "language": "python",
   "name": "python3"
  },
  "language_info": {
   "codemirror_mode": {
    "name": "ipython",
    "version": 3
   },
   "file_extension": ".py",
   "mimetype": "text/x-python",
   "name": "python",
   "nbconvert_exporter": "python",
   "pygments_lexer": "ipython3",
   "version": "3.8.8"
  }
 },
 "nbformat": 4,
 "nbformat_minor": 2
}
